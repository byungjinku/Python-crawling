{
 "cells": [
  {
   "cell_type": "markdown",
   "metadata": {},
   "source": [
    "### 네이버 애플 뉴스 기사 검색목록"
   ]
  },
  {
   "cell_type": "code",
   "execution_count": 1,
   "metadata": {},
   "outputs": [],
   "source": [
    "import requests\n",
    "from bs4 import BeautifulSoup"
   ]
  },
  {
   "cell_type": "code",
   "execution_count": 2,
   "metadata": {},
   "outputs": [],
   "source": [
    "search_keyword = '애플'\n",
    "url = f'https://search.naver.com/search.naver?where=news&sm=tab_jum&query={search_keyword}'"
   ]
  },
  {
   "cell_type": "code",
   "execution_count": 3,
   "metadata": {},
   "outputs": [],
   "source": [
    "r = requests.get(url)\n",
    "soup = BeautifulSoup(r.text, 'html.parser')\n",
    "news_titles = soup.select('.news .type01 li dt a[title]')"
   ]
  },
  {
   "cell_type": "code",
   "execution_count": 4,
   "metadata": {},
   "outputs": [
    {
     "name": "stdout",
     "output_type": "stream",
     "text": [
      "총 10 개의 뉴스 제목이 있습니다\n",
      "\n",
      "'광고비 갑질' 면죄부 받고도…'사과 없는' 애플\n",
      "애플, WWDC서 에어 파워 공개하나\n",
      "'통신3사 갑질' 애플 처벌 안한다…면죄부 논란 불보듯\n",
      "‘폴더블 아이폰’은 LG 닮은꼴?...애플은 언제 반으로 접을까\n",
      "애플 앱스토어가 도박 권장? 美서 집단 소송\n",
      "통신사 \"애플, 불공정 행위 진정성 의문\"\n",
      "애플, WWDC 22일 온라인 개최…아이폰12는?\n",
      "위메프, 단 이틀간 반값 행사 실시… 애플·LG 등 최대 55% 파격 할인\n",
      "[글로벌] 애플, '시력교정 기능 헤드셋' 특허 출원\n",
      "이통사에 광고비·지원금 떠넘기는 애플 갑질 없어지나\n"
     ]
    }
   ],
   "source": [
    "print('총', len(news_titles), '개의 뉴스 제목이 있습니다')\n",
    "print()\n",
    "for title in news_titles:\n",
    "    print(title['title'])"
   ]
  }
 ],
 "metadata": {
  "kernelspec": {
   "display_name": "Python 3",
   "language": "python",
   "name": "python3"
  },
  "language_info": {
   "codemirror_mode": {
    "name": "ipython",
    "version": 3
   },
   "file_extension": ".py",
   "mimetype": "text/x-python",
   "name": "python",
   "nbconvert_exporter": "python",
   "pygments_lexer": "ipython3",
   "version": "3.7.6"
  }
 },
 "nbformat": 4,
 "nbformat_minor": 4
}
