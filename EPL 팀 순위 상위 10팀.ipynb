{
 "cells": [
  {
   "cell_type": "code",
   "execution_count": 1,
   "metadata": {},
   "outputs": [],
   "source": [
    "import requests\n",
    "from bs4 import BeautifulSoup\n"
   ]
  },
  {
   "cell_type": "code",
   "execution_count": 2,
   "metadata": {},
   "outputs": [],
   "source": [
    "naver_wfootball = \"https://sports.news.naver.com/wfootball/index.nhn\"\n",
    "premi_team_rank = requests.get(naver_wfootball)\n",
    "premi_team_rank_list =  BeautifulSoup(premi_team_rank.content,\"html.parser\",from_encoding='utf=8')"
   ]
  },
  {
   "cell_type": "code",
   "execution_count": 3,
   "metadata": {},
   "outputs": [],
   "source": [
    "#team_rank_list = premi_team_rank_list.select('#_team_rank_epl > table > tbody >tr')[0]\n",
    "#team_rank_list\n",
    " \n",
    "team_rank_list = premi_team_rank_list.select('#_team_rank_epl > table > tbody >tr')\n",
    " "
   ]
  },
  {
   "cell_type": "code",
   "execution_count": 4,
   "metadata": {},
   "outputs": [
    {
     "name": "stdout",
     "output_type": "stream",
     "text": [
      "1위 리버풀\n",
      "2위 맨시티\n",
      "3위 레스터\n",
      "4위 첼시\n",
      "5위 맨유\n",
      "6위 셰필드\n",
      "7위 울버햄튼\n",
      "8위 토트넘\n",
      "9위 아스널\n",
      "10위 번리\n"
     ]
    }
   ],
   "source": [
    "for o in team_rank_list :\n",
    "    r = o.select('.blind')[0].text\n",
    "    x = o.select('.name')[0].text\n",
    "    print(r,x)"
   ]
  },
  {
   "cell_type": "code",
   "execution_count": 5,
   "metadata": {},
   "outputs": [],
   "source": [
    "import csv"
   ]
  },
  {
   "cell_type": "code",
   "execution_count": 6,
   "metadata": {},
   "outputs": [],
   "source": [
    "def toCSV(team_rank_list):\n",
    "    with open('team_rank_list.csv', 'w', encoding='utf-8', newline='') as file :\n",
    "        csvfile = csv.writer(file)\n",
    "        for row in team_rank_list:\n",
    "            csvfile.writerow(row)"
   ]
  },
  {
   "cell_type": "code",
   "execution_count": null,
   "metadata": {},
   "outputs": [],
   "source": []
  }
 ],
 "metadata": {
  "kernelspec": {
   "display_name": "Python 3",
   "language": "python",
   "name": "python3"
  },
  "language_info": {
   "codemirror_mode": {
    "name": "ipython",
    "version": 3
   },
   "file_extension": ".py",
   "mimetype": "text/x-python",
   "name": "python",
   "nbconvert_exporter": "python",
   "pygments_lexer": "ipython3",
   "version": "3.7.6"
  }
 },
 "nbformat": 4,
 "nbformat_minor": 4
}
