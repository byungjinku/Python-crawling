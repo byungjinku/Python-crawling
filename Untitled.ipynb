{
 "cells": [
  {
   "cell_type": "code",
   "execution_count": 13,
   "metadata": {},
   "outputs": [],
   "source": [
    "from urllib.request import urlopen\n",
    "from bs4 import BeautifulSoup\n",
    "import re\n",
    "import csv"
   ]
  },
  {
   "cell_type": "code",
   "execution_count": 14,
   "metadata": {},
   "outputs": [
    {
     "ename": "AttributeError",
     "evalue": "'NoneType' object has no attribute 'find_all'",
     "output_type": "error",
     "traceback": [
      "\u001b[1;31m---------------------------------------------------------------------------\u001b[0m",
      "\u001b[1;31mAttributeError\u001b[0m                            Traceback (most recent call last)",
      "\u001b[1;32m<ipython-input-14-531d2bda0146>\u001b[0m in \u001b[0;36m<module>\u001b[1;34m\u001b[0m\n\u001b[0;32m      4\u001b[0m \u001b[1;33m\u001b[0m\u001b[0m\n\u001b[0;32m      5\u001b[0m \u001b[0mmusinsa_recmmnd_list\u001b[0m \u001b[1;33m=\u001b[0m \u001b[0mbsObject\u001b[0m\u001b[1;33m.\u001b[0m\u001b[0mbody\u001b[0m\u001b[1;33m.\u001b[0m\u001b[0mfind\u001b[0m\u001b[1;33m(\u001b[0m\u001b[1;34m\"div\"\u001b[0m\u001b[1;33m,\u001b[0m \u001b[1;33m{\u001b[0m\u001b[1;34m\"id\"\u001b[0m\u001b[1;33m:\u001b[0m\u001b[1;34m\"product_size_recommend\"\u001b[0m\u001b[1;33m}\u001b[0m\u001b[1;33m)\u001b[0m\u001b[1;33m\u001b[0m\u001b[1;33m\u001b[0m\u001b[0m\n\u001b[1;32m----> 6\u001b[1;33m \u001b[0mlis\u001b[0m \u001b[1;33m=\u001b[0m \u001b[0mmusinsa_recmmnd_list\u001b[0m\u001b[1;33m.\u001b[0m\u001b[0mfind_all\u001b[0m\u001b[1;33m(\u001b[0m\u001b[1;34m\"li\"\u001b[0m\u001b[1;33m)\u001b[0m\u001b[1;33m\u001b[0m\u001b[1;33m\u001b[0m\u001b[0m\n\u001b[0m\u001b[0;32m      7\u001b[0m \u001b[1;33m\u001b[0m\u001b[0m\n\u001b[0;32m      8\u001b[0m \u001b[1;32mif\u001b[0m \u001b[0mmusinsa_recmmnd_list\u001b[0m\u001b[1;33m.\u001b[0m\u001b[0mfind_all\u001b[0m\u001b[1;33m(\u001b[0m\u001b[1;34m\"li\"\u001b[0m\u001b[1;33m)\u001b[0m \u001b[1;32mis\u001b[0m \u001b[1;32mnot\u001b[0m \u001b[1;32mNone\u001b[0m\u001b[1;33m:\u001b[0m\u001b[1;33m\u001b[0m\u001b[1;33m\u001b[0m\u001b[0m\n",
      "\u001b[1;31mAttributeError\u001b[0m: 'NoneType' object has no attribute 'find_all'"
     ]
    }
   ],
   "source": [
    "# url html 데이터 불러오기\n",
    "html = urlopen(\"https://store.musinsa.com/app/product/detail/1177518/0\")\n",
    "bsObject = BeautifulSoup(html, \"html.parser\")\n",
    "\n",
    "musinsa_recmmnd_list = bsObject.body.find(\"div\", {\"id\":\"product_size_recommend\"})\n",
    "lis = musinsa_recmmnd_list.find_all(\"li\")\n",
    "\n",
    "if musinsa_recmmnd_list.find_all(\"li\") is not None:\n",
    "        musinsa_dataframe = [[\"id\", \"sex\", \"height\", \"weight\", \"size\", \"satisfaction\"]] # 먼저 헤더 작성.\n",
    "        num = 1\n",
    "        for li in lis:\n",
    "            # 개별 리스트 아이템 내부 데이터 문자열\n",
    "            size_content = li.find(\"p\", {\"class\": \"size_content\"}).text\n",
    "            \n",
    "            #data 정규식으로 파싱.\n",
    "            sex = re.findall(\"(남자|여자)\", size_content)\n",
    "            height = re.findall(\"1[0-9]{2}cm\", size_content)\n",
    "            weight = re.findall(\"[1-9][0-9]{1,2}kg\", size_content)\n",
    "            size = re.findall(\"(S|M|L|XL|XXL) Size\", size_content)\n",
    "            satisfaction = re.findall(\"(큼|적당함|작음)\", size_content)"
   ]
  },
  {
   "cell_type": "code",
   "execution_count": 11,
   "metadata": {},
   "outputs": [
    {
     "ename": "AttributeError",
     "evalue": "'NoneType' object has no attribute 'find_all'",
     "output_type": "error",
     "traceback": [
      "\u001b[1;31m---------------------------------------------------------------------------\u001b[0m",
      "\u001b[1;31mAttributeError\u001b[0m                            Traceback (most recent call last)",
      "\u001b[1;32m<ipython-input-11-f7d0cda7cff4>\u001b[0m in \u001b[0;36m<module>\u001b[1;34m\u001b[0m\n\u001b[0;32m      9\u001b[0m \u001b[1;33m\u001b[0m\u001b[0m\n\u001b[0;32m     10\u001b[0m \u001b[0mmusinsa_recmmnd_list\u001b[0m \u001b[1;33m=\u001b[0m \u001b[0mbsObject\u001b[0m\u001b[1;33m.\u001b[0m\u001b[0mbody\u001b[0m\u001b[1;33m.\u001b[0m\u001b[0mfind\u001b[0m\u001b[1;33m(\u001b[0m\u001b[1;34m\"div\"\u001b[0m\u001b[1;33m,\u001b[0m \u001b[1;33m{\u001b[0m\u001b[1;34m\"id\"\u001b[0m\u001b[1;33m:\u001b[0m\u001b[1;34m\"product_size_recommend\"\u001b[0m\u001b[1;33m}\u001b[0m\u001b[1;33m)\u001b[0m\u001b[1;33m\u001b[0m\u001b[1;33m\u001b[0m\u001b[0m\n\u001b[1;32m---> 11\u001b[1;33m \u001b[0mlis\u001b[0m \u001b[1;33m=\u001b[0m \u001b[0mmusinsa_recmmnd_list\u001b[0m\u001b[1;33m.\u001b[0m\u001b[0mfind_all\u001b[0m\u001b[1;33m(\u001b[0m\u001b[1;34m\"li\"\u001b[0m\u001b[1;33m)\u001b[0m\u001b[1;33m\u001b[0m\u001b[1;33m\u001b[0m\u001b[0m\n\u001b[0m\u001b[0;32m     12\u001b[0m \u001b[1;33m\u001b[0m\u001b[0m\n\u001b[0;32m     13\u001b[0m \u001b[1;32mif\u001b[0m \u001b[0mmusinsa_recmmnd_list\u001b[0m\u001b[1;33m.\u001b[0m\u001b[0mfind_all\u001b[0m\u001b[1;33m(\u001b[0m\u001b[1;34m\"li\"\u001b[0m\u001b[1;33m)\u001b[0m \u001b[1;32mis\u001b[0m \u001b[1;32mnot\u001b[0m \u001b[1;32mNone\u001b[0m\u001b[1;33m:\u001b[0m\u001b[1;33m\u001b[0m\u001b[1;33m\u001b[0m\u001b[0m\n",
      "\u001b[1;31mAttributeError\u001b[0m: 'NoneType' object has no attribute 'find_all'"
     ]
    }
   ],
   "source": [
    "          \n",
    "\n",
    "            if sex is not None and type(sex) == list and len(sex) != 0:\n",
    "                sex = sex.pop()\n",
    "            else:\n",
    "                sex = None\n",
    "\n",
    "            if height is not None and type(height) == list and len(height) != 0:\n",
    "                height = height.pop()[0:3]\n",
    "            else:\n",
    "                height = None\n",
    "\n",
    "            if weight is not None and type(weight) == list and len(weight) != 0:\n",
    "                weight = weight.pop()[0:2]\n",
    "            else:\n",
    "                weight = None\n",
    "\n",
    "            if size is not None and type(size) == list and len(size) != 0:\n",
    "                size = size.pop()\n",
    "            else:\n",
    "                size = None\n",
    "\n",
    "            if satisfaction is not None and type(satisfaction) == list and len(satisfaction) != 0:\n",
    "                satisfaction = satisfaction.pop()\n",
    "            else:\n",
    "                satisfaction = None\n",
    "            #test printing\n",
    "            # print({\n",
    "            #     \"origin_txt\": size_content,\n",
    "            #     \"id\" : num, \n",
    "            #     \"sex\" : sex,\n",
    "            #     \"height\" : height,\n",
    "            #     \"weight\" : weight,\n",
    "            #     \"size\" : size,\n",
    "            #     \"satisfaction\" : satisfaction\n",
    "            # })\n",
    "\n",
    "            musinsa_dataframe.append([\n",
    "                num,\n",
    "                sex,\n",
    "                height,\n",
    "                weight,\n",
    "                size,\n",
    "                satisfaction\n",
    "            ])\n",
    "\n",
    "            num += 1\n",
    "\n",
    "            #csv 파일을 만듭니다.\n",
    "\n",
    "            with open(\"musinsa_size_satisfaction.csv\", \"w\", encoding=\"utf-8\") as musinsa_csv:\n",
    "                wr = csv.writer(musinsa_csv, quoting=csv.QUOTE_NONE)\n",
    "                wr.writerows(musinsa_dataframe)\n",
    "else:\n",
    "    print(\"No data found\")"
   ]
  },
  {
   "cell_type": "code",
   "execution_count": null,
   "metadata": {},
   "outputs": [],
   "source": []
  }
 ],
 "metadata": {
  "kernelspec": {
   "display_name": "Python 3",
   "language": "python",
   "name": "python3"
  },
  "language_info": {
   "codemirror_mode": {
    "name": "ipython",
    "version": 3
   },
   "file_extension": ".py",
   "mimetype": "text/x-python",
   "name": "python",
   "nbconvert_exporter": "python",
   "pygments_lexer": "ipython3",
   "version": "3.7.6"
  }
 },
 "nbformat": 4,
 "nbformat_minor": 4
}
