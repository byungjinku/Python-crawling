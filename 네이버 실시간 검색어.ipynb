{
 "cells": [
  {
   "cell_type": "markdown",
   "metadata": {},
   "source": [
    "### 네이버 실시간 검색어"
   ]
  },
  {
   "cell_type": "code",
   "execution_count": 1,
   "metadata": {},
   "outputs": [],
   "source": [
    "import requests\n",
    "from bs4 import BeautifulSoup"
   ]
  },
  {
   "cell_type": "code",
   "execution_count": 2,
   "metadata": {},
   "outputs": [],
   "source": [
    "json = requests.get('https://www.naver.com/srchrank?frm=main').json()"
   ]
  },
  {
   "cell_type": "code",
   "execution_count": 3,
   "metadata": {},
   "outputs": [],
   "source": [
    "# json 데이터에서 \"data\" 항목의 값을 추출\n",
    "ranks = json.get(\"data\")"
   ]
  },
  {
   "cell_type": "code",
   "execution_count": 4,
   "metadata": {},
   "outputs": [
    {
     "name": "stdout",
     "output_type": "stream",
     "text": [
      "1 우지윤\n",
      "2 제넥신\n",
      "3 공공기관 경영평가\n",
      "4 볼빨간사춘기\n",
      "5 장예은\n",
      "6 안지영\n",
      "7 이인영\n",
      "8 이강인\n",
      "9 송유근\n",
      "10 박결\n",
      "11 설훈\n",
      "12 홍혜걸\n",
      "13 제넨바이오\n",
      "14 용의자 x\n",
      "15 2020 6월 모의고사 등급컷\n",
      "16 바이넥스\n",
      "17 토트넘 맨유\n",
      "18 모나미\n",
      "19 마미손\n",
      "20 함익병\n"
     ]
    }
   ],
   "source": [
    "# 해당 값은 리스트 형태로 제공되기에 리스트만큼 반복\n",
    "for r in ranks:\n",
    "    # 각 데이터는 rank, keyword, keyword_synomyms\n",
    "    rank = r.get(\"rank\")\n",
    "    keyword = r.get(\"keyword\")\n",
    "    print(rank, keyword)"
   ]
  },
  {
   "cell_type": "markdown",
   "metadata": {},
   "source": []
  }
 ],
 "metadata": {
  "kernelspec": {
   "display_name": "Python 3",
   "language": "python",
   "name": "python3"
  },
  "language_info": {
   "codemirror_mode": {
    "name": "ipython",
    "version": 3
   },
   "file_extension": ".py",
   "mimetype": "text/x-python",
   "name": "python",
   "nbconvert_exporter": "python",
   "pygments_lexer": "ipython3",
   "version": "3.7.6"
  }
 },
 "nbformat": 4,
 "nbformat_minor": 4
}
